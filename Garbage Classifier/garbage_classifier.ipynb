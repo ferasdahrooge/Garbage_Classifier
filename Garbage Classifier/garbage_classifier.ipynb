{
 "cells": [
  {
   "cell_type": "code",
   "execution_count": 1,
   "metadata": {},
   "outputs": [],
   "source": [
    "import torch\n",
    "import glob\n",
    "import matplotlib.pylab as plt\n",
    "from torch.utils.data import Dataset\n",
    "import torch.nn as nn\n",
    "import numpy as np\n",
    "from PIL import Image\n",
    "from torchvision.models import resnet18\n",
    "from torchvision import transforms, models\n",
    "from sklearn.model_selection import StratifiedShuffleSplit\n",
    "import cv2"
   ]
  },
  {
   "cell_type": "code",
   "execution_count": 2,
   "metadata": {},
   "outputs": [
    {
     "name": "stdout",
     "output_type": "stream",
     "text": [
      "cpu\n"
     ]
    }
   ],
   "source": [
    "device = torch.device('cuda:0' if torch.cuda.is_available() else 'cpu')\n",
    "\n",
    "# Assuming that we are on a CUDA machine, this should print a CUDA device:\n",
    "print(device)\n",
    "\n",
    "import torch.optim as optim\n",
    "from torch.optim.lr_scheduler import ExponentialLR"
   ]
  },
  {
   "cell_type": "code",
   "execution_count": 3,
   "metadata": {},
   "outputs": [],
   "source": [
    "class TorchVisionDataset(Dataset):\n",
    "    def __init__(self,data_dic, transform = None):\n",
    "        self.file_paths = data_dic[\"X\"]\n",
    "        self.labels = data_dic[\"Y\"]\n",
    "        self.transform = transform\n",
    "\n",
    "    def __len__(self):\n",
    "        return len(self.file_paths)\n",
    "\n",
    "    \n",
    "    def __getitem__(self,idx):\n",
    "        label = self.labels[idx]\n",
    "        file_path = self.file_paths[idx]\n",
    "\n",
    "        image = Image.open(file_path)\n",
    "\n",
    "        if self.transform:\n",
    "            image = self.transform(image)\n",
    "        return image, label"
   ]
  },
  {
   "cell_type": "code",
   "execution_count": 5,
   "metadata": {},
   "outputs": [
    {
     "name": "stdout",
     "output_type": "stream",
     "text": [
      "5409\n",
      "5409\n",
      "full_dataset/Green/lime_fruit_512.jpg\n",
      "Green\n"
     ]
    }
   ],
   "source": [
    "images = glob.glob('full_dataset/*/*.jpg')\n",
    "images = np.array(images)\n",
    "labels = np.array([f.split(\"/\")[-2] for f in images])\n",
    "print(len(images))\n",
    "print(labels.size)\n",
    "print(images[0])\n",
    "print(labels[0])"
   ]
  },
  {
   "cell_type": "code",
   "execution_count": 7,
   "metadata": {},
   "outputs": [
    {
     "name": "stdout",
     "output_type": "stream",
     "text": [
      "['Black' 'Blue' 'Green' 'Other']\n",
      "(5409,)\n"
     ]
    }
   ],
   "source": [
    "classes = np.unique(labels).flatten()\n",
    "print(classes)\n",
    "labels_int = np.zeros(labels.size, dtype = np.int64)\n",
    "print(labels_int.shape)\n",
    "for ii,jj in enumerate(classes):\n",
    "    labels_int[labels == jj] = ii "
   ]
  },
  {
   "cell_type": "code",
   "execution_count": 8,
   "metadata": {},
   "outputs": [
    {
     "name": "stdout",
     "output_type": "stream",
     "text": [
      "Label  0 : 1581\n",
      "Label  1 : 1820\n",
      "Label  2 : 1167\n",
      "Label  3 : 841\n"
     ]
    }
   ],
   "source": [
    "for ii in range(4):\n",
    "    print(\"Label \", ii, \":\", (labels_int == ii).sum())"
   ]
  },
  {
   "cell_type": "code",
   "execution_count": 9,
   "metadata": {},
   "outputs": [],
   "source": [
    "sss = StratifiedShuffleSplit(n_splits = 1, test_size= 0.2, random_state=10)\n",
    "sss.get_n_splits(images,labels_int)\n",
    "dev_index, test_index = next(sss.split(images,labels_int))\n",
    "\n",
    "dev_images = images[dev_index]\n",
    "dev_labels = labels_int[dev_index]\n",
    "\n",
    "test_images = images[test_index]\n",
    "test_labels = labels_int[test_index] "
   ]
  },
  {
   "cell_type": "code",
   "execution_count": 10,
   "metadata": {},
   "outputs": [],
   "source": [
    "sss2 = StratifiedShuffleSplit(n_splits = 1, test_size= 0.2, random_state=10)\n",
    "sss2.get_n_splits(dev_images,dev_labels)\n",
    "train_index, val_index = next(sss2.split(dev_images,dev_labels))\n",
    "\n",
    "train_images = images[train_index]\n",
    "train_labels = labels_int[train_index]\n",
    "\n",
    "val_images = images[val_index]\n",
    "val_labels = labels_int[val_index] "
   ]
  },
  {
   "cell_type": "code",
   "execution_count": 11,
   "metadata": {},
   "outputs": [
    {
     "name": "stdout",
     "output_type": "stream",
     "text": [
      "Train set: 3461\n",
      "Val set: 866\n",
      "Test set: 1082\n"
     ]
    }
   ],
   "source": [
    "print(\"Train set:\", train_images.size)\n",
    "print(\"Val set:\", val_images.size)\n",
    "print(\"Test set:\", test_images.size)"
   ]
  },
  {
   "cell_type": "code",
   "execution_count": 14,
   "metadata": {},
   "outputs": [],
   "source": [
    "train_set = {\"X\": train_images, \"Y\": train_labels}\n",
    "val_set = {\"X\": val_images, \"Y\": val_labels}\n",
    "test_set = {\"X\": test_images, \"Y\": test_labels}"
   ]
  },
  {
   "cell_type": "code",
   "execution_count": 15,
   "metadata": {},
   "outputs": [],
   "source": [
    "torchvision_transform = transforms.Compose([transforms.Resize((224,224)),\\\n",
    "    transforms.RandomHorizontalFlip(), transforms.RandomVerticalFlip(),\n",
    "    transforms.ToTensor(),transforms.Normalize(mean = [0.4120, 0.3768, 0.3407],std = [0.2944,0.2759,0.2598])])\n",
    "\n",
    "\n",
    "torchvision_transform_test = transforms.Compose([transforms.Resize((224,224)),\\\n",
    "    transforms.ToTensor(),transforms.Normalize(mean = [0.4120, 0.3768, 0.3407],std = [0.2944,0.2759,0.2598])])"
   ]
  },
  {
   "cell_type": "code",
   "execution_count": 16,
   "metadata": {},
   "outputs": [],
   "source": [
    "train_dataset = TorchVisionDataset(train_set, transform=torchvision_transform)\n",
    "val_dataset = TorchVisionDataset(val_set, transform=torchvision_transform)\n",
    "test_dataset = TorchVisionDataset(test_set, transform=torchvision_transform_test)"
   ]
  },
  {
   "cell_type": "code",
   "execution_count": 17,
   "metadata": {},
   "outputs": [],
   "source": [
    "trainloader = torch.utils.data.DataLoader(train_dataset, batch_size= 32, shuffle = True, num_workers= 0)\n",
    "valloader = torch.utils.data.DataLoader(val_dataset, batch_size= 32, num_workers= 0)\n",
    "testloader = torch.utils.data.DataLoader(test_dataset, batch_size= 32, num_workers= 0)"
   ]
  },
  {
   "cell_type": "code",
   "execution_count": null,
   "metadata": {},
   "outputs": [],
   "source": []
  }
 ],
 "metadata": {
  "kernelspec": {
   "display_name": "Python 3.9.13 ('base')",
   "language": "python",
   "name": "python3"
  },
  "language_info": {
   "codemirror_mode": {
    "name": "ipython",
    "version": 3
   },
   "file_extension": ".py",
   "mimetype": "text/x-python",
   "name": "python",
   "nbconvert_exporter": "python",
   "pygments_lexer": "ipython3",
   "version": "3.9.13"
  },
  "orig_nbformat": 4,
  "vscode": {
   "interpreter": {
    "hash": "2d8559e58fad08f6b149f9f678acd42e602cfd8cee785110be98faa6bcb4ac45"
   }
  }
 },
 "nbformat": 4,
 "nbformat_minor": 2
}
